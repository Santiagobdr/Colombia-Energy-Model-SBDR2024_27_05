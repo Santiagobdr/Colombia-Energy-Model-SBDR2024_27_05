{
 "cells": [
  {
   "cell_type": "markdown",
   "metadata": {},
   "source": [
    "# Python Script to Run the Multiple-Node Colombia Case Study"
   ]
  },
  {
   "cell_type": "markdown",
   "metadata": {},
   "source": [
    "### 1. Importing calliope model and built-in cal-graph module for post-process analysis"
   ]
  },
  {
   "cell_type": "code",
   "execution_count": null,
   "metadata": {
    "collapsed": false
   },
   "outputs": [],
   "source": [
    "import calliope"
   ]
  },
  {
   "cell_type": "markdown",
   "metadata": {},
   "source": [
    "### 2. Setting the level of verbosity of Calliope's operations"
   ]
  },
  {
   "cell_type": "code",
   "execution_count": null,
   "metadata": {
    "scrolled": true
   },
   "outputs": [],
   "source": [
    "try:\n",
    "    calliope.set_log_level('Error')\n",
    "except:\n",
    "    calliope.set_log_verbosity('Error')"
   ]
  },
  {
   "cell_type": "markdown",
   "metadata": {},
   "source": [
    "### 3. Assigning a name to the model settings file and run it"
   ]
  },
  {
   "cell_type": "code",
   "outputs": [],
   "source": [
    "model = calliope.Model('model.yaml')\n",
    "model.run()"
   ],
   "metadata": {
    "collapsed": false
   },
   "execution_count": null
  },
  {
   "cell_type": "markdown",
   "metadata": {},
   "source": [
    "### 4. Saving the input data and output results in separated csv files"
   ]
  },
  {
   "cell_type": "code",
   "execution_count": null,
   "metadata": {
    "pycharm": {
     "is_executing": true
    }
   },
   "outputs": [],
   "source": [
    "# model.to_csv(r'ResultadosArtículos\\NodoGuajira_Low3')\n"
   ]
  },
  {
   "cell_type": "markdown",
   "metadata": {},
   "source": [
    "### 5. Create graphs"
   ]
  },
  {
   "cell_type": "code",
   "execution_count": null,
   "metadata": {},
   "outputs": [],
   "source": [
    "## Only inputs or only results\n",
    "#\n",
    "# model.plot.capacity(array='inputs')\n",
    "model.plot.timeseries(array='results')\n",
    "\n",
    "## Only consumed resource\n",
    "# model.plot.timeseries(array='resource_con')\n",
    "\n",
    "# ## Only consumed resource and 'power' carrier flow\n",
    "# model.plot.timeseries(array=['power', 'resource_con'])\n",
    "\n",
    "# model.plot.timeseries(subset={'tech_groups': [],'costs': ['monetary']})\n",
    "# model.plot.timeseries(subset={'costs': ['monetary']})\n",
    "# model.plot.timeseries(subset={'techs': [' pv_large_scale','on_wind_pp','bio_pp'],'costs': ['monetary']})"
   ]
  }
 ],
 "metadata": {
  "kernelspec": {
   "display_name": "Python 3 (ipykernel)",
   "language": "python",
   "name": "python3"
  },
  "language_info": {
   "codemirror_mode": {
    "name": "ipython",
    "version": 3
   },
   "file_extension": ".py",
   "mimetype": "text/x-python",
   "name": "python",
   "nbconvert_exporter": "python",
   "pygments_lexer": "ipython3",
   "version": "3.9.19"
  }
 },
 "nbformat": 4,
 "nbformat_minor": 4
}
